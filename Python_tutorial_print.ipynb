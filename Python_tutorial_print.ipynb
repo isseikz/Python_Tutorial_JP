{
 "cells": [
  {
   "cell_type": "markdown",
   "metadata": {},
   "source": [
    "# Pythonで出力：print文"
   ]
  },
  {
   "cell_type": "markdown",
   "metadata": {},
   "source": [
    "+ コマンド画面に文字や値を表示させることを「出力する」という。\n",
    "+ Pythonでは、プログラムの計算結果をコマンド画面上に表示させるために`print()`を用いる。\n",
    " - `print('文字列')`では、`''`で囲まれた部分がそのまま文字列とみなして画面に出力する。\n",
    " - `print(変数)`では，変数の値を画面に出力する。変数は文字列でも数値でも良い。\n",
    " - 他にも，`print('文字列', 変数)`や`print(f'文字列 {変数}')`などのように便利な書き方がある。"
   ]
  },
  {
   "cell_type": "markdown",
   "metadata": {},
   "source": [
    "1. 文字列の表示\n",
    "\n",
    "出力させたい文字列を`''`で囲み、`print('文字列')`とすると、コマンド画面に文字を表示させることができます。"
   ]
  },
  {
   "cell_type": "code",
   "execution_count": 36,
   "metadata": {},
   "outputs": [
    {
     "name": "stdout",
     "output_type": "stream",
     "text": [
      "hello world!\n"
     ]
    }
   ],
   "source": [
    "print('hello world!')"
   ]
  },
  {
   "cell_type": "markdown",
   "metadata": {},
   "source": [
    "※`''`の値を変えて、`Shift`キーと`Enter`キーを同時に押してみましょう。その下に表示された文字が変化するはずです。"
   ]
  },
  {
   "cell_type": "markdown",
   "metadata": {},
   "source": [
    "<br />"
   ]
  },
  {
   "cell_type": "markdown",
   "metadata": {},
   "source": [
    "\n",
    "\n",
    "また、カッコの中に変数を入れると、変数の値を出力させることができます。"
   ]
  },
  {
   "cell_type": "code",
   "execution_count": 37,
   "metadata": {},
   "outputs": [
    {
     "name": "stdout",
     "output_type": "stream",
     "text": [
      "abcde\n"
     ]
    }
   ],
   "source": [
    "text = 'abcde'\n",
    "print(text)"
   ]
  },
  {
   "cell_type": "markdown",
   "metadata": {},
   "source": [
    "※変数`text`の右辺の文字を変えて、`Shift`キーと`Enter`キーを同時に押してみましょう。その下に表示された文字が変化するはずです。"
   ]
  },
  {
   "cell_type": "markdown",
   "metadata": {},
   "source": [
    "<br />"
   ]
  },
  {
   "cell_type": "markdown",
   "metadata": {},
   "source": [
    "文字列と変数は`, `を用いて横に並べることもできます。これまでの例と同様に、文字や変数の値を変えてみましょう。"
   ]
  },
  {
   "cell_type": "code",
   "execution_count": 38,
   "metadata": {},
   "outputs": [
    {
     "name": "stdout",
     "output_type": "stream",
     "text": [
      "変数textの値は  abcde です.\n"
     ]
    }
   ],
   "source": [
    "text = 'abcde'\n",
    "print('変数textの値は ', text, 'です.')"
   ]
  },
  {
   "cell_type": "markdown",
   "metadata": {},
   "source": [
    " "
   ]
  },
  {
   "cell_type": "markdown",
   "metadata": {},
   "source": [
    "変数の値が数値の場合には、その値を出力します。"
   ]
  },
  {
   "cell_type": "code",
   "execution_count": 40,
   "metadata": {},
   "outputs": [
    {
     "name": "stdout",
     "output_type": "stream",
     "text": [
      "pi= 3.1415926\n"
     ]
    }
   ],
   "source": [
    "x = 3.1415926\n",
    "print('pi=', x)"
   ]
  },
  {
   "cell_type": "markdown",
   "metadata": {},
   "source": [
    "<br>"
   ]
  },
  {
   "cell_type": "markdown",
   "metadata": {},
   "source": [
    "`print(f'文字列... {変数} 文字列... {変数}')`では、文字列と変数の値を一緒に混ぜた形式で出力することができます。"
   ]
  },
  {
   "cell_type": "code",
   "execution_count": 42,
   "metadata": {},
   "outputs": [
    {
     "name": "stdout",
     "output_type": "stream",
     "text": [
      "pi= 3.14, e= 2.73\n"
     ]
    }
   ],
   "source": [
    "pi = 3.14\n",
    "e = 2.73\n",
    "print(f'pi= {pi}, e= {e}')"
   ]
  },
  {
   "cell_type": "markdown",
   "metadata": {},
   "source": [
    "<br>"
   ]
  },
  {
   "cell_type": "markdown",
   "metadata": {},
   "source": [
    "今回は、`print`文の基本的な使い方を紹介しました。沢山`print`して、使い方に慣れましょう！"
   ]
  },
  {
   "cell_type": "markdown",
   "metadata": {},
   "source": [
    "<br>"
   ]
  },
  {
   "cell_type": "markdown",
   "metadata": {},
   "source": [
    "より詳しく知りたい場合は...\n",
    "+ 「組み込み関数」. Python公式ドキュメント. https://docs.python.jp/3/library/functions.html#print\n",
    "+ 「【Python入門】文字列出力print()をマスターしよう！」.株式会社 侍(2018).https://www.sejuku.net/blog/61602\n",
    "+ 「Pythonのprint関数で文字列、数値および変数の値を出力」.nkmk.me(2017).https://note.nkmk.me/python-print-basic/"
   ]
  }
 ],
 "metadata": {
  "kernelspec": {
   "display_name": "Python 3",
   "language": "python",
   "name": "python3"
  },
  "language_info": {
   "codemirror_mode": {
    "name": "ipython",
    "version": 3
   },
   "file_extension": ".py",
   "mimetype": "text/x-python",
   "name": "python",
   "nbconvert_exporter": "python",
   "pygments_lexer": "ipython3",
   "version": "3.6.6"
  }
 },
 "nbformat": 4,
 "nbformat_minor": 2
}
